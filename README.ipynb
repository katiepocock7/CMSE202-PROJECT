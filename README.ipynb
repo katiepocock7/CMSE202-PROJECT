{
 "cells": [
  {
   "cell_type": "markdown",
   "id": "053053a2",
   "metadata": {},
   "source": [
    "# SemesterProject\n",
    "Cat Trap - Anita, Stella, Finn, Lucas, Connor, Kyle, Katie"
   ]
  },
  {
   "cell_type": "markdown",
   "id": "ef934ff1",
   "metadata": {},
   "source": [
    "The code should be well-documented and include a README markdown file (.md) in the GitHub repository that explains how to run the code and a description of what each group member contributed to the overall project. "
   ]
  },
  {
   "cell_type": "markdown",
   "id": "05ccd361",
   "metadata": {},
   "source": [
    "# How to Run the Code"
   ]
  },
  {
   "cell_type": "markdown",
   "id": "52a63a43",
   "metadata": {},
   "source": [
    "Our Project includes the folder pygamehelp and the file reinforcement learning help that are useful links we used to understand the details of our project and posted so that our group was on the same page at each step of the project. In the cattrap folder includes different changes we made as we changed the font, images, etc. It also includes the main jupyter file that includes the code for our game. "
   ]
  },
  {
   "cell_type": "markdown",
   "id": "b5cbd4d0",
   "metadata": {},
   "source": [
    "# How Members Contributed"
   ]
  },
  {
   "cell_type": "markdown",
   "id": "843c4a21",
   "metadata": {},
   "source": [
    "As a group we all contributed! Everyone attended the meetings we agreed on and took on individual tasks that aided in moving forward to our accomplish our goals. Coming to a conclusion with our project depended on a lot of individual work that we then worked off of together. Anita built the foundation of our CatTrap game very early on using pygame, matplotlib, and networkx. Once we had this foundation the rest of our group members worked towards creating a plan that uses reinforcement learning to create an algorithm focused on trapping our cat. Katie created the README file. Stella posted useful information about reinforcement learning. "
   ]
  }
 ],
 "metadata": {
  "jupytext": {
   "cell_metadata_filter": "-all",
   "notebook_metadata_filter": "-all",
   "text_representation": {
    "extension": ".md",
    "format_name": "markdown"
   }
  },
  "kernelspec": {
   "display_name": "Python 3",
   "language": "python",
   "name": "python3"
  }
 },
 "nbformat": 4,
 "nbformat_minor": 5
}
